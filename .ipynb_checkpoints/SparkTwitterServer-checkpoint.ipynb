{
 "cells": [
  {
   "cell_type": "code",
   "execution_count": null,
   "metadata": {},
   "outputs": [],
   "source": [
    "!pip install google_trans_new"
   ]
  },
  {
   "cell_type": "code",
   "execution_count": 1,
   "metadata": {},
   "outputs": [],
   "source": [
    "import findspark\n",
    "findspark.init()\n",
    "import pyspark\n",
    "import traceback\n",
    "import json\n",
    "from pyspark.sql.session import SparkSession\n",
    "import os\n",
    "from google_trans_new import google_translator  \n",
    "import datetime\n",
    "from vaderSentiment.vaderSentiment import SentimentIntensityAnalyzer\n",
    "from pyspark.ml import PipelineModel\n",
    "from pyspark.ml.classification import LogisticRegressionModel\n",
    "\n",
    "conf = pyspark.SparkConf()\n",
    "conf.set(\"spark.executor.extraClassPath\",  os.path.join(os.getcwd(), 'extras/sqlite-jdbc-3.34.0.jar'))\n",
    "conf.set(\"spark.driver.extraClassPath\", os.path.join(os.getcwd(), 'extras/sqlite-jdbc-3.34.0.jar'))\n",
    "\n",
    "sc = pyspark.SparkContext(appName=\"TwitterStreamApp\", conf=conf)\n",
    "\n",
    "spark = SparkSession(sc)\n",
    "translator = google_translator()  "
   ]
  },
  {
   "cell_type": "code",
   "execution_count": 2,
   "metadata": {},
   "outputs": [],
   "source": [
    "url = 'jdbc:sqlite:' + os.path.join(os.getcwd(), 'database.sqlite')\n",
    "\n",
    "df = spark.read.jdbc(url, 'Tweet')\n",
    "df.createOrReplaceTempView('Tweet')"
   ]
  },
  {
   "cell_type": "code",
   "execution_count": 3,
   "metadata": {},
   "outputs": [],
   "source": [
    "!export JAVA_HOME='/usr/lib/jvm/java-8-openjdk-amd64'\n",
    "!export PATH=$JAVA_HOME/bin:$PATH"
   ]
  },
  {
   "cell_type": "code",
   "execution_count": 4,
   "metadata": {},
   "outputs": [],
   "source": [
    "def sentiment_score(tweet):\n",
    "  \n",
    "    sid = SentimentIntensityAnalyzer()\n",
    "  \n",
    "    sentiment = sid.polarity_scores(tweet)\n",
    "      \n",
    "    if sentiment['compound'] >= 0.05:\n",
    "        return \"Positive\"\n",
    "    elif sentiment['compound'] <= - 0.05:\n",
    "        return \"Negative\"\n",
    "    else:\n",
    "        return 'Neutral'"
   ]
  },
  {
   "cell_type": "code",
   "execution_count": 5,
   "metadata": {},
   "outputs": [],
   "source": [
    "def get_sql_context_instance(spark_context):\n",
    "    if ('sqlContextSingletonInstance' not in globals()):\n",
    "        globals()['sqlContextSingletonInstance'] = SQLContext(spark_context)\n",
    "    return globals()['sqlContextSingletonInstance']\n",
    "\n",
    "def process_rdd(time, rdd):\n",
    "    print(\"----------- %s -----------\" % str(time))\n",
    "    try:\n",
    "        sql_context = get_sql_context_instance(rdd.context)\n",
    "        rf = PipelineModel.load(\"models/final_idf.model\")\n",
    "        lr = LogisticRegressionModel.load(\"models/final_lr.model\")\n",
    "        row_rdd = rdd.map(lambda x: (x, translator.translate(\n",
    "                x['extended_tweet']['full_text'] if x['truncated'] else x['text'], lang_src='es', lang_tgt='en'\n",
    "            ))).map(lambda x: Row(\n",
    "            name=x[0]['user']['screen_name'],\n",
    "            date=datetime.datetime.fromtimestamp(int(x[0]['timestamp_ms']) / 1000).strftime('%Y-%m-%d %H:%M:%S'),\n",
    "            text=x[0]['extended_tweet']['full_text'] if x[0]['truncated'] else x[0]['text'],\n",
    "            transtext=x[1],\n",
    "            sentiment=sentiment_score(x[1])\n",
    "        ))\n",
    "        tweets_df = sql_context.createDataFrame(row_rdd)\n",
    "        prediction = lr.transform(rf.transform(tweets_df)).drop('words').drop('tf')\\\n",
    "            .drop('features').drop('rawPrediction').drop('probability').drop('label').drop('tokens')\n",
    "        prediction.show()\n",
    "        prediction.write.mode(\"append\").jdbc(url, 'Tweet')\n",
    "    except Exception as ex:\n",
    "        pass\n",
    "        #traceback.print_exception(type(ex), ex, ex.__traceback__)"
   ]
  },
  {
   "cell_type": "code",
   "execution_count": 6,
   "metadata": {},
   "outputs": [],
   "source": [
    "from pyspark import SparkConf,SparkContext\n",
    "from pyspark.streaming import StreamingContext\n",
    "from pyspark.sql import Row,SQLContext\n",
    "import sys\n",
    "import requests"
   ]
  },
  {
   "cell_type": "code",
   "execution_count": null,
   "metadata": {
    "scrolled": false
   },
   "outputs": [
    {
     "name": "stdout",
     "output_type": "stream",
     "text": [
      "----------- 2021-05-20 14:46:02 -----------\n",
      "+-------------+-------------------+--------------------+--------------------+---------+----------+\n",
      "|         name|               date|                text|           transtext|sentiment|prediction|\n",
      "+-------------+-------------------+--------------------+--------------------+---------+----------+\n",
      "|macarenagomez|2021-05-20 14:45:56|Después de 14 mes...|After 14 months, ...| Negative|       0.0|\n",
      "|      baeele_|2021-05-20 14:45:56|RT @andres_alguac...|RT @andres_alguac...|  Neutral|       0.0|\n",
      "+-------------+-------------------+--------------------+--------------------+---------+----------+\n",
      "\n",
      "----------- 2021-05-20 14:46:04 -----------\n",
      "+----------+-------------------+--------------------+--------------------+---------+----------+\n",
      "|      name|               date|                text|           transtext|sentiment|prediction|\n",
      "+----------+-------------------+--------------------+--------------------+---------+----------+\n",
      "|fuentesmzd|2021-05-20 14:45:57|@alebarber7 Madri...|@ alebarber7 madr...| Negative|       0.0|\n",
      "| gontier00|2021-05-20 14:45:58|@manuruiz7 ojito ...|@ Manuruiz7 Ojito...|  Neutral|       1.0|\n",
      "+----------+-------------------+--------------------+--------------------+---------+----------+\n",
      "\n",
      "----------- 2021-05-20 14:46:06 -----------\n",
      "+---------+-------------------+--------------------+--------------------+---------+----------+\n",
      "|     name|               date|                text|           transtext|sentiment|prediction|\n",
      "+---------+-------------------+--------------------+--------------------+---------+----------+\n",
      "|Jdiaz_atm|2021-05-20 14:45:59|RT @UlisesATM: Po...|RT @ulisesatm: Fo...|  Neutral|       0.0|\n",
      "+---------+-------------------+--------------------+--------------------+---------+----------+\n",
      "\n",
      "----------- 2021-05-20 14:46:08 -----------\n",
      "----------- 2021-05-20 14:46:10 -----------\n",
      "----------- 2021-05-20 14:46:12 -----------\n",
      "----------- 2021-05-20 14:46:14 -----------\n",
      "----------- 2021-05-20 14:46:16 -----------\n",
      "----------- 2021-05-20 14:46:18 -----------\n",
      "----------- 2021-05-20 14:46:20 -----------\n",
      "----------- 2021-05-20 14:46:22 -----------\n",
      "----------- 2021-05-20 14:46:24 -----------\n",
      "----------- 2021-05-20 14:46:26 -----------\n",
      "----------- 2021-05-20 14:46:28 -----------\n"
     ]
    }
   ],
   "source": [
    "\n",
    "sc.setLogLevel(\"ERROR\")\n",
    "ssc = StreamingContext(sc, 2)\n",
    "ssc.checkpoint(\"checkpoint_TwitterApp\")\n",
    "dataStream = ssc.socketTextStream(\"localhost\",9005)\n",
    "tweets = dataStream.map(lambda x: json.loads(x))\n",
    "\n",
    "tweets.foreachRDD(process_rdd)\n",
    "mySsc = ssc\n",
    "\n",
    "ssc.start()\n",
    "ssc.awaitTermination()\n"
   ]
  },
  {
   "cell_type": "code",
   "execution_count": null,
   "metadata": {},
   "outputs": [],
   "source": [
    "ssc.stop(False)"
   ]
  }
 ],
 "metadata": {
  "kernelspec": {
   "display_name": "Python 3",
   "language": "python",
   "name": "python3"
  },
  "language_info": {
   "codemirror_mode": {
    "name": "ipython",
    "version": 3
   },
   "file_extension": ".py",
   "mimetype": "text/x-python",
   "name": "python",
   "nbconvert_exporter": "python",
   "pygments_lexer": "ipython3",
   "version": "3.8.3"
  }
 },
 "nbformat": 4,
 "nbformat_minor": 4
}
