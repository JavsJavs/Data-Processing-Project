{
 "cells": [
  {
   "cell_type": "markdown",
   "metadata": {},
   "source": [
    "# Spark Server"
   ]
  },
  {
   "cell_type": "code",
   "execution_count": null,
   "metadata": {},
   "outputs": [],
   "source": [
    "# Instalación de la API de traducción\n",
    "!pip install google_trans_new"
   ]
  },
  {
   "cell_type": "code",
   "execution_count": null,
   "metadata": {},
   "outputs": [],
   "source": [
    "import findspark\n",
    "findspark.init()\n",
    "import pyspark\n",
    "import traceback\n",
    "import json\n",
    "from pyspark.sql.session import SparkSession\n",
    "import os\n",
    "from google_trans_new import google_translator  \n",
    "import datetime\n",
    "from vaderSentiment.vaderSentiment import SentimentIntensityAnalyzer\n",
<<<<<<< HEAD
    "from pyspark.ml import PipelineModel\n",
    "from pyspark.ml.classification import LogisticRegressionModel\n",
=======
>>>>>>> fc33634409170e7c73434d41356f159ec7148664
    "\n",
    "conf = pyspark.SparkConf()\n",
    "conf.set(\"spark.executor.extraClassPath\",  os.path.join(os.getcwd(), 'extras/sqlite-jdbc-3.34.0.jar'))\n",
    "conf.set(\"spark.driver.extraClassPath\", os.path.join(os.getcwd(), 'extras/sqlite-jdbc-3.34.0.jar'))\n",
    "\n",
    "sc = pyspark.SparkContext(appName=\"TwitterStreamApp\", conf=conf)\n",
    "\n",
    "spark = SparkSession(sc)\n",
    "translator = google_translator()  "
   ]
  },
  {
   "cell_type": "code",
   "execution_count": null,
   "metadata": {},
   "outputs": [],
   "source": [
    "# Conexión con la base de datos SQLito\n",
    "url = 'jdbc:sqlite:' + os.path.join(os.getcwd(), 'database.sqlite')\n",
    "\n",
    "df = spark.read.jdbc(url, 'Tweet')\n",
    "df.createOrReplaceTempView('Tweet')"
   ]
  },
  {
   "cell_type": "code",
   "execution_count": null,
   "metadata": {},
   "outputs": [],
   "source": [
    "# Establecemos el path de Java (no es obligatorio)\n",
    "!export JAVA_HOME='/usr/lib/jvm/java-8-openjdk-amd64'\n",
    "!export PATH=$JAVA_HOME/bin:$PATH"
   ]
  },
  {
   "cell_type": "code",
   "execution_count": null,
   "metadata": {},
   "outputs": [],
   "source": [
    "# Función para analizar el sentimiento con vaderSentiment\n",
    "\n",
    "def sentiment_score(tweet):\n",
    "  \n",
    "    sid = SentimentIntensityAnalyzer()\n",
    "  \n",
    "    sentiment = sid.polarity_scores(tweet)\n",
    "      \n",
    "    if sentiment['compound'] >= 0.05:\n",
    "        return \"Positive\"\n",
    "    elif sentiment['compound'] <= - 0.05:\n",
    "        return \"Negative\"\n",
    "    else:\n",
    "        return 'Neutral'\n",
    "\n"
   ]
  },
  {
   "cell_type": "code",
   "execution_count": null,
   "metadata": {},
   "outputs": [],
   "source": [
    "# Función para procesar los RDD con los tweets\n",
    "def get_sql_context_instance(spark_context):\n",
    "    if ('sqlContextSingletonInstance' not in globals()):\n",
    "        globals()['sqlContextSingletonInstance'] = SQLContext(spark_context)\n",
    "    return globals()['sqlContextSingletonInstance']\n",
    "\n",
    "def get_prediction(tweets_df):\n",
    "    # Se importan los modelos de ML\n",
    "    rf = PipelineModel.load(\"models/final_idf.model\")\n",
    "    lr = LogisticRegressionModel.load(\"models/final_lr.model\")\n",
    "    predictions_rf = rf.transform(tweets_df)\n",
    "    \n",
    "    predictions_lr = lr.transform(predictions_rf)\n",
    "    \n",
    "    predictions = predictions_lr.drop('words').drop('tf').drop('features')\\\n",
    "                    .drop('rawPrediction').drop('probability').drop('label').drop('tokens')\n",
    "    \n",
    "    return predictions\n",
    "\n",
    "def process_rdd(time, rdd):\n",
    "    print(\"--------- %s ---------\" % str(time))\n",
    "    try:\n",
    "        sql_context = get_sql_context_instance(rdd.context)\n",
<<<<<<< Updated upstream
<<<<<<< HEAD
    "        rf = PipelineModel.load(\"models/final_idf.model\")\n",
    "        lr = LogisticRegressionModel.load(\"models/final_lr.model\")\n",
=======
    "\n",
>>>>>>> fc33634409170e7c73434d41356f159ec7148664
=======
    "        \n",
    "        # Creamos un objeto Row por cada elemento del RDD con los datos que vamos a guardar en la BBDD\n",
>>>>>>> Stashed changes
    "        row_rdd = rdd.map(lambda x: (x, translator.translate(\n",
    "                x['extended_tweet']['full_text'] if x['truncated'] else x['text'], lang_src='es', lang_tgt='en'\n",
    "            ))).map(lambda x: Row(\n",
    "            name=x[0]['user']['screen_name'],\n",
    "            date=datetime.datetime.fromtimestamp(int(x[0]['timestamp_ms']) / 1000).strftime('%Y-%m-%d %H:%M:%S'),\n",
    "            text=x[0]['extended_tweet']['full_text'] if x[0]['truncated'] else x[0]['text'],\n",
    "            transtext=x[1],\n",
    "            sentiment=sentiment_score(x[1])\n",
    "        ))\n",
<<<<<<< Updated upstream
<<<<<<< HEAD
=======
    "        \n",
    "        # Creamos el dataframe y lo pasamos por el modelo\n",
>>>>>>> Stashed changes
    "        tweets_df = sql_context.createDataFrame(row_rdd)\n",
    "        prediction = get_prediction(tweets_df)\n",
    "        prediction.show()\n",
    "        \n",
    "        # Se guarda el dataframe resutante en la BBDD\n",
    "        prediction.write.mode(\"append\").jdbc(url, 'Tweet')\n",
    "    except Exception as ex:\n",
    "        pass\n",
    "        #traceback.print_exception(type(ex), ex, ex.__traceback__)"
=======
    "\n",
    "        tweets_df = sql_context.createDataFrame(row_rdd)\n",
    "        tweets_df.write.mode(\"append\").jdbc(url, 'Tweet')\n",
    "    except:\n",
    "        pass"
>>>>>>> fc33634409170e7c73434d41356f159ec7148664
   ]
  },
  {
   "cell_type": "code",
   "execution_count": null,
   "metadata": {},
   "outputs": [],
   "source": [
    "from pyspark import SparkConf,SparkContext\n",
    "from pyspark.streaming import StreamingContext\n",
    "from pyspark.sql import Row,SQLContext\n",
    "import sys\n",
    "import requests"
   ]
  },
  {
   "cell_type": "code",
<<<<<<< HEAD
   "execution_count": null,
=======
   "execution_count": 19,
>>>>>>> fc33634409170e7c73434d41356f159ec7148664
   "metadata": {
    "scrolled": false
   },
<<<<<<< Updated upstream
   "outputs": [
    {
     "name": "stdout",
     "output_type": "stream",
     "text": [
<<<<<<< HEAD
      "----------- 2021-05-20 14:46:02 -----------\n",
      "+-------------+-------------------+--------------------+--------------------+---------+----------+\n",
      "|         name|               date|                text|           transtext|sentiment|prediction|\n",
      "+-------------+-------------------+--------------------+--------------------+---------+----------+\n",
      "|macarenagomez|2021-05-20 14:45:56|Después de 14 mes...|After 14 months, ...| Negative|       0.0|\n",
      "|      baeele_|2021-05-20 14:45:56|RT @andres_alguac...|RT @andres_alguac...|  Neutral|       0.0|\n",
      "+-------------+-------------------+--------------------+--------------------+---------+----------+\n",
      "\n",
      "----------- 2021-05-20 14:46:04 -----------\n",
      "+----------+-------------------+--------------------+--------------------+---------+----------+\n",
      "|      name|               date|                text|           transtext|sentiment|prediction|\n",
      "+----------+-------------------+--------------------+--------------------+---------+----------+\n",
      "|fuentesmzd|2021-05-20 14:45:57|@alebarber7 Madri...|@ alebarber7 madr...| Negative|       0.0|\n",
      "| gontier00|2021-05-20 14:45:58|@manuruiz7 ojito ...|@ Manuruiz7 Ojito...|  Neutral|       1.0|\n",
      "+----------+-------------------+--------------------+--------------------+---------+----------+\n",
      "\n",
      "----------- 2021-05-20 14:46:06 -----------\n",
      "+---------+-------------------+--------------------+--------------------+---------+----------+\n",
      "|     name|               date|                text|           transtext|sentiment|prediction|\n",
      "+---------+-------------------+--------------------+--------------------+---------+----------+\n",
      "|Jdiaz_atm|2021-05-20 14:45:59|RT @UlisesATM: Po...|RT @ulisesatm: Fo...|  Neutral|       0.0|\n",
      "+---------+-------------------+--------------------+--------------------+---------+----------+\n",
      "\n",
      "----------- 2021-05-20 14:46:08 -----------\n",
      "----------- 2021-05-20 14:46:10 -----------\n",
      "----------- 2021-05-20 14:46:12 -----------\n",
      "----------- 2021-05-20 14:46:14 -----------\n",
      "----------- 2021-05-20 14:46:16 -----------\n",
      "----------- 2021-05-20 14:46:18 -----------\n",
      "----------- 2021-05-20 14:46:20 -----------\n",
      "----------- 2021-05-20 14:46:22 -----------\n",
      "----------- 2021-05-20 14:46:24 -----------\n",
      "----------- 2021-05-20 14:46:26 -----------\n",
      "----------- 2021-05-20 14:46:28 -----------\n"
=======
      "----------- 2021-05-16 16:17:24 -----------\n",
      "----------- 2021-05-16 16:17:26 -----------\n",
      "----------- 2021-05-16 16:17:28 -----------\n",
      "----------- 2021-05-16 16:17:30 -----------\n",
      "----------- 2021-05-16 16:17:32 -----------\n",
      "----------- 2021-05-16 16:17:34 -----------\n",
      "----------- 2021-05-16 16:17:36 -----------\n",
      "----------- 2021-05-16 16:17:38 -----------\n",
      "----------- 2021-05-16 16:17:40 -----------\n",
      "----------- 2021-05-16 16:17:42 -----------\n",
      "----------- 2021-05-16 16:17:44 -----------\n",
      "----------- 2021-05-16 16:17:46 -----------\n",
      "----------- 2021-05-16 16:17:48 -----------\n",
      "----------- 2021-05-16 16:17:50 -----------\n",
      "----------- 2021-05-16 16:17:52 -----------\n",
      "----------- 2021-05-16 16:17:54 -----------\n",
      "----------- 2021-05-16 16:17:56 -----------\n",
      "----------- 2021-05-16 16:17:58 -----------\n",
      "----------- 2021-05-16 16:18:00 -----------\n",
      "----------- 2021-05-16 16:18:02 -----------\n",
      "----------- 2021-05-16 16:18:04 -----------\n"
     ]
    },
    {
     "ename": "KeyboardInterrupt",
     "evalue": "",
     "output_type": "error",
     "traceback": [
      "\u001b[0;31m---------------------------------------------------------------------------\u001b[0m",
      "\u001b[0;31mKeyboardInterrupt\u001b[0m                         Traceback (most recent call last)",
      "\u001b[0;32m<ipython-input-19-4782342bf9c4>\u001b[0m in \u001b[0;36m<module>\u001b[0;34m\u001b[0m\n\u001b[1;32m     22\u001b[0m \u001b[0mssc\u001b[0m\u001b[0;34m.\u001b[0m\u001b[0mstart\u001b[0m\u001b[0;34m(\u001b[0m\u001b[0;34m)\u001b[0m\u001b[0;34m\u001b[0m\u001b[0;34m\u001b[0m\u001b[0m\n\u001b[1;32m     23\u001b[0m \u001b[0;31m# espera que la transmisión termine\u001b[0m\u001b[0;34m\u001b[0m\u001b[0;34m\u001b[0m\u001b[0;34m\u001b[0m\u001b[0m\n\u001b[0;32m---> 24\u001b[0;31m \u001b[0mssc\u001b[0m\u001b[0;34m.\u001b[0m\u001b[0mawaitTermination\u001b[0m\u001b[0;34m(\u001b[0m\u001b[0;34m)\u001b[0m\u001b[0;34m\u001b[0m\u001b[0;34m\u001b[0m\u001b[0m\n\u001b[0m",
      "\u001b[0;32m/opt/spark/python/pyspark/streaming/context.py\u001b[0m in \u001b[0;36mawaitTermination\u001b[0;34m(self, timeout)\u001b[0m\n\u001b[1;32m    187\u001b[0m         \"\"\"\n\u001b[1;32m    188\u001b[0m         \u001b[0;32mif\u001b[0m \u001b[0mtimeout\u001b[0m \u001b[0;32mis\u001b[0m \u001b[0;32mNone\u001b[0m\u001b[0;34m:\u001b[0m\u001b[0;34m\u001b[0m\u001b[0;34m\u001b[0m\u001b[0m\n\u001b[0;32m--> 189\u001b[0;31m             \u001b[0mself\u001b[0m\u001b[0;34m.\u001b[0m\u001b[0m_jssc\u001b[0m\u001b[0;34m.\u001b[0m\u001b[0mawaitTermination\u001b[0m\u001b[0;34m(\u001b[0m\u001b[0;34m)\u001b[0m\u001b[0;34m\u001b[0m\u001b[0;34m\u001b[0m\u001b[0m\n\u001b[0m\u001b[1;32m    190\u001b[0m         \u001b[0;32melse\u001b[0m\u001b[0;34m:\u001b[0m\u001b[0;34m\u001b[0m\u001b[0;34m\u001b[0m\u001b[0m\n\u001b[1;32m    191\u001b[0m             \u001b[0mself\u001b[0m\u001b[0;34m.\u001b[0m\u001b[0m_jssc\u001b[0m\u001b[0;34m.\u001b[0m\u001b[0mawaitTerminationOrTimeout\u001b[0m\u001b[0;34m(\u001b[0m\u001b[0mint\u001b[0m\u001b[0;34m(\u001b[0m\u001b[0mtimeout\u001b[0m \u001b[0;34m*\u001b[0m \u001b[0;36m1000\u001b[0m\u001b[0;34m)\u001b[0m\u001b[0;34m)\u001b[0m\u001b[0;34m\u001b[0m\u001b[0;34m\u001b[0m\u001b[0m\n",
      "\u001b[0;32m/opt/spark/python/lib/py4j-0.10.9-src.zip/py4j/java_gateway.py\u001b[0m in \u001b[0;36m__call__\u001b[0;34m(self, *args)\u001b[0m\n\u001b[1;32m   1301\u001b[0m             \u001b[0mproto\u001b[0m\u001b[0;34m.\u001b[0m\u001b[0mEND_COMMAND_PART\u001b[0m\u001b[0;34m\u001b[0m\u001b[0;34m\u001b[0m\u001b[0m\n\u001b[1;32m   1302\u001b[0m \u001b[0;34m\u001b[0m\u001b[0m\n\u001b[0;32m-> 1303\u001b[0;31m         \u001b[0manswer\u001b[0m \u001b[0;34m=\u001b[0m \u001b[0mself\u001b[0m\u001b[0;34m.\u001b[0m\u001b[0mgateway_client\u001b[0m\u001b[0;34m.\u001b[0m\u001b[0msend_command\u001b[0m\u001b[0;34m(\u001b[0m\u001b[0mcommand\u001b[0m\u001b[0;34m)\u001b[0m\u001b[0;34m\u001b[0m\u001b[0;34m\u001b[0m\u001b[0m\n\u001b[0m\u001b[1;32m   1304\u001b[0m         return_value = get_return_value(\n\u001b[1;32m   1305\u001b[0m             answer, self.gateway_client, self.target_id, self.name)\n",
      "\u001b[0;32m/opt/spark/python/lib/py4j-0.10.9-src.zip/py4j/java_gateway.py\u001b[0m in \u001b[0;36msend_command\u001b[0;34m(self, command, retry, binary)\u001b[0m\n\u001b[1;32m   1031\u001b[0m         \u001b[0mconnection\u001b[0m \u001b[0;34m=\u001b[0m \u001b[0mself\u001b[0m\u001b[0;34m.\u001b[0m\u001b[0m_get_connection\u001b[0m\u001b[0;34m(\u001b[0m\u001b[0;34m)\u001b[0m\u001b[0;34m\u001b[0m\u001b[0;34m\u001b[0m\u001b[0m\n\u001b[1;32m   1032\u001b[0m         \u001b[0;32mtry\u001b[0m\u001b[0;34m:\u001b[0m\u001b[0;34m\u001b[0m\u001b[0;34m\u001b[0m\u001b[0m\n\u001b[0;32m-> 1033\u001b[0;31m             \u001b[0mresponse\u001b[0m \u001b[0;34m=\u001b[0m \u001b[0mconnection\u001b[0m\u001b[0;34m.\u001b[0m\u001b[0msend_command\u001b[0m\u001b[0;34m(\u001b[0m\u001b[0mcommand\u001b[0m\u001b[0;34m)\u001b[0m\u001b[0;34m\u001b[0m\u001b[0;34m\u001b[0m\u001b[0m\n\u001b[0m\u001b[1;32m   1034\u001b[0m             \u001b[0;32mif\u001b[0m \u001b[0mbinary\u001b[0m\u001b[0;34m:\u001b[0m\u001b[0;34m\u001b[0m\u001b[0;34m\u001b[0m\u001b[0m\n\u001b[1;32m   1035\u001b[0m                 \u001b[0;32mreturn\u001b[0m \u001b[0mresponse\u001b[0m\u001b[0;34m,\u001b[0m \u001b[0mself\u001b[0m\u001b[0;34m.\u001b[0m\u001b[0m_create_connection_guard\u001b[0m\u001b[0;34m(\u001b[0m\u001b[0mconnection\u001b[0m\u001b[0;34m)\u001b[0m\u001b[0;34m\u001b[0m\u001b[0;34m\u001b[0m\u001b[0m\n",
      "\u001b[0;32m/opt/spark/python/lib/py4j-0.10.9-src.zip/py4j/java_gateway.py\u001b[0m in \u001b[0;36msend_command\u001b[0;34m(self, command)\u001b[0m\n\u001b[1;32m   1198\u001b[0m \u001b[0;34m\u001b[0m\u001b[0m\n\u001b[1;32m   1199\u001b[0m         \u001b[0;32mtry\u001b[0m\u001b[0;34m:\u001b[0m\u001b[0;34m\u001b[0m\u001b[0;34m\u001b[0m\u001b[0m\n\u001b[0;32m-> 1200\u001b[0;31m             \u001b[0manswer\u001b[0m \u001b[0;34m=\u001b[0m \u001b[0msmart_decode\u001b[0m\u001b[0;34m(\u001b[0m\u001b[0mself\u001b[0m\u001b[0;34m.\u001b[0m\u001b[0mstream\u001b[0m\u001b[0;34m.\u001b[0m\u001b[0mreadline\u001b[0m\u001b[0;34m(\u001b[0m\u001b[0;34m)\u001b[0m\u001b[0;34m[\u001b[0m\u001b[0;34m:\u001b[0m\u001b[0;34m-\u001b[0m\u001b[0;36m1\u001b[0m\u001b[0;34m]\u001b[0m\u001b[0;34m)\u001b[0m\u001b[0;34m\u001b[0m\u001b[0;34m\u001b[0m\u001b[0m\n\u001b[0m\u001b[1;32m   1201\u001b[0m             \u001b[0mlogger\u001b[0m\u001b[0;34m.\u001b[0m\u001b[0mdebug\u001b[0m\u001b[0;34m(\u001b[0m\u001b[0;34m\"Answer received: {0}\"\u001b[0m\u001b[0;34m.\u001b[0m\u001b[0mformat\u001b[0m\u001b[0;34m(\u001b[0m\u001b[0manswer\u001b[0m\u001b[0;34m)\u001b[0m\u001b[0;34m)\u001b[0m\u001b[0;34m\u001b[0m\u001b[0;34m\u001b[0m\u001b[0m\n\u001b[1;32m   1202\u001b[0m             \u001b[0;32mif\u001b[0m \u001b[0manswer\u001b[0m\u001b[0;34m.\u001b[0m\u001b[0mstartswith\u001b[0m\u001b[0;34m(\u001b[0m\u001b[0mproto\u001b[0m\u001b[0;34m.\u001b[0m\u001b[0mRETURN_MESSAGE\u001b[0m\u001b[0;34m)\u001b[0m\u001b[0;34m:\u001b[0m\u001b[0;34m\u001b[0m\u001b[0;34m\u001b[0m\u001b[0m\n",
      "\u001b[0;32m~/anaconda3/lib/python3.8/socket.py\u001b[0m in \u001b[0;36mreadinto\u001b[0;34m(self, b)\u001b[0m\n\u001b[1;32m    667\u001b[0m         \u001b[0;32mwhile\u001b[0m \u001b[0;32mTrue\u001b[0m\u001b[0;34m:\u001b[0m\u001b[0;34m\u001b[0m\u001b[0;34m\u001b[0m\u001b[0m\n\u001b[1;32m    668\u001b[0m             \u001b[0;32mtry\u001b[0m\u001b[0;34m:\u001b[0m\u001b[0;34m\u001b[0m\u001b[0;34m\u001b[0m\u001b[0m\n\u001b[0;32m--> 669\u001b[0;31m                 \u001b[0;32mreturn\u001b[0m \u001b[0mself\u001b[0m\u001b[0;34m.\u001b[0m\u001b[0m_sock\u001b[0m\u001b[0;34m.\u001b[0m\u001b[0mrecv_into\u001b[0m\u001b[0;34m(\u001b[0m\u001b[0mb\u001b[0m\u001b[0;34m)\u001b[0m\u001b[0;34m\u001b[0m\u001b[0;34m\u001b[0m\u001b[0m\n\u001b[0m\u001b[1;32m    670\u001b[0m             \u001b[0;32mexcept\u001b[0m \u001b[0mtimeout\u001b[0m\u001b[0;34m:\u001b[0m\u001b[0;34m\u001b[0m\u001b[0;34m\u001b[0m\u001b[0m\n\u001b[1;32m    671\u001b[0m                 \u001b[0mself\u001b[0m\u001b[0;34m.\u001b[0m\u001b[0m_timeout_occurred\u001b[0m \u001b[0;34m=\u001b[0m \u001b[0;32mTrue\u001b[0m\u001b[0;34m\u001b[0m\u001b[0;34m\u001b[0m\u001b[0m\n",
      "\u001b[0;31mKeyboardInterrupt\u001b[0m: "
>>>>>>> fc33634409170e7c73434d41356f159ec7148664
     ]
    }
   ],
=======
   "outputs": [],
>>>>>>> Stashed changes
   "source": [
    "# Configuración del servidor\n",
    "\n",
    "sc.setLogLevel(\"ERROR\")\n",
    "ssc = StreamingContext(sc, 2)\n",
    "ssc.checkpoint(\"checkpoint_TwitterApp\")\n",
    "dataStream = ssc.socketTextStream(\"localhost\",9008)\n",
    "tweets = dataStream.map(lambda x: json.loads(x))\n",
    "\n",
    "tweets.foreachRDD(process_rdd)\n",
    "mySsc = ssc\n",
    "\n",
    "ssc.start()\n",
    "ssc.awaitTermination()\n"
   ]
  },
  {
   "cell_type": "code",
<<<<<<< HEAD
   "execution_count": null,
=======
   "execution_count": 21,
>>>>>>> fc33634409170e7c73434d41356f159ec7148664
   "metadata": {},
   "outputs": [],
   "source": [
    "ssc.stop(False)"
   ]
  }
 ],
 "metadata": {
  "kernelspec": {
   "display_name": "Python 3",
   "language": "python",
   "name": "python3"
  },
  "language_info": {
   "codemirror_mode": {
    "name": "ipython",
    "version": 3
   },
   "file_extension": ".py",
   "mimetype": "text/x-python",
   "name": "python",
   "nbconvert_exporter": "python",
   "pygments_lexer": "ipython3",
   "version": "3.8.3"
  }
 },
 "nbformat": 4,
 "nbformat_minor": 4
}
