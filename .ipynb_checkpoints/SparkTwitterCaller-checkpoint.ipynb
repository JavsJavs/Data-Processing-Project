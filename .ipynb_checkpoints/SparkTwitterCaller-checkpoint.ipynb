{
 "cells": [
  {
   "cell_type": "markdown",
   "metadata": {},
   "source": [
    "# Spark Client"
   ]
  },
  {
   "cell_type": "code",
   "execution_count": null,
   "metadata": {},
   "outputs": [],
   "source": [
    "import socket\n",
    "import sys\n",
    "import requests\n",
    "import requests_oauthlib\n",
    "import json\n",
    "import traceback\n",
    "sock = None"
   ]
  },
  {
   "cell_type": "code",
   "execution_count": null,
   "metadata": {},
   "outputs": [],
   "source": [
    "# Importamos las credenciales para la API de Twitter\n",
    "\n",
    "with open(\"./accessKeys.json\") as f:\n",
    "    data = json.load(f)"
   ]
  },
  {
   "cell_type": "code",
   "execution_count": null,
   "metadata": {},
   "outputs": [],
   "source": [
    "ACCESS_TOKEN = data['ACCESS_TOKEN']\n",
    "ACCESS_SECRET = data['ACCESS_SECRET']\n",
    "CONSUMER_KEY = data['CONSUMER_KEY']\n",
    "CONSUMER_SECRET = data['CONSUMER_SECRET']\n",
    "my_auth = requests_oauthlib.OAuth1(CONSUMER_KEY, CONSUMER_SECRET,ACCESS_TOKEN, ACCESS_SECRET)"
   ]
  },
  {
   "cell_type": "code",
   "execution_count": 2,
   "metadata": {},
   "outputs": [],
   "source": [
    "# Función que abre un socket con la API de Twitter para pedir los tweets que van siendo publicados.\n",
    "# Solo tweets de España con los hashtags definidos\n",
    "def get_tweets():\n",
    "    url = 'https://stream.twitter.com/1.1/statuses/filter.json'\n",
    "    query_data = [('language', 'es'), ('locations', '-9,35,3,42'),('track','#'), ('tweet_mode', 'extended')]\n",
    "    query_url = url + '?' + '&'.join([str(t[0]) + '=' + str(t[1]) for t in query_data])\n",
    "    response = requests.get(query_url, auth=my_auth, stream=True)\n",
    "    print(query_url, response)\n",
    "    return response"
   ]
  },
  {
   "cell_type": "code",
   "execution_count": null,
   "metadata": {},
   "outputs": [],
   "source": [
    "# Enviamos los tweets al servidor de Spark Streaming para que los procese y traduzca\n",
    "# Para esta práctica enviamos el JSON entero, ya que contiene diferentes datos útiles\n",
    "def send_tweets_to_spark(http_resp, tcp_connection, limit=-1):\n",
    "    for line in http_resp.iter_lines():\n",
    "        limit -= 1\n",
    "        try:\n",
    "            print(json.loads(line)['text'])\n",
    "            print('\\n')\n",
    "            tcp_connection.send(line + b'\\n')\n",
    "        except Exception as ex:\n",
    "            traceback.print_exception(type(ex), ex, ex.__traceback__)\n",
    "        if limit == 0:\n",
    "            http_resp.close()\n",
    "            break"
   ]
  },
  {
   "cell_type": "markdown",
   "metadata": {},
   "source": [
    "# Debug"
   ]
  },
  {
   "cell_type": "code",
   "execution_count": null,
   "metadata": {},
   "outputs": [],
   "source": [
    "# Función de DEBUG que envía un número de tweets limitado\n",
    "def debug():\n",
    "    TCP_IP = \"localhost\"\n",
    "    TCP_PORT = 9008\n",
    "    conn = None\n",
    "    s = socket.socket(socket.AF_INET, socket.SOCK_STREAM)\n",
    "    s.bind((TCP_IP, TCP_PORT))\n",
    "    s.listen(1)\n",
    "    print(\"Esperando conexión...\")\n",
    "    conn, addr = s.accept()\n",
    "    print(\"Conectando...\")\n",
    "    global sock\n",
    "    sock = s\n",
    "    resp = get_tweets()\n",
    "    send_tweets_to_spark(resp, conn, limit=50)\n",
    "    \n",
    "\n",
    "debug()"
   ]
  },
  {
   "cell_type": "code",
   "execution_count": null,
   "metadata": {},
   "outputs": [],
   "source": [
    "# Para cerrar la conexión del socket\n",
    "sock.shutdown(socket.SHUT_RDWR)\n",
    "sock.close()"
   ]
  },
  {
   "cell_type": "markdown",
   "metadata": {},
   "source": [
    "# Main"
   ]
  },
  {
   "cell_type": "code",
   "execution_count": null,
   "metadata": {},
   "outputs": [],
   "source": [
    "# Función principal para enviar tweets hasta que se interrumpa\n",
    "def main():\n",
    "    TCP_IP = \"localhost\"\n",
    "    TCP_PORT = 9007\n",
    "    conn = None\n",
    "    s = socket.socket(socket.AF_INET, socket.SOCK_STREAM)\n",
    "    s.bind((TCP_IP, TCP_PORT))\n",
    "    s.listen(1)\n",
    "    print(\"Esperando conexión...\")\n",
    "    conn, addr = s.accept()\n",
    "    print(\"Conectando...\")\n",
    "    global sock\n",
    "    sock = s\n",
    "    resp = get_tweets()\n",
    "    send_tweets_to_spark(resp, conn)\n",
    "    \n",
    "\n",
    "main()"
   ]
  }
 ],
 "metadata": {
  "kernelspec": {
   "display_name": "Python 3",
   "language": "python",
   "name": "python3"
  },
  "language_info": {
   "codemirror_mode": {
    "name": "ipython",
    "version": 3
   },
   "file_extension": ".py",
   "mimetype": "text/x-python",
   "name": "python",
   "nbconvert_exporter": "python",
   "pygments_lexer": "ipython3",
   "version": "3.8.3"
  }
 },
 "nbformat": 4,
 "nbformat_minor": 4
}
