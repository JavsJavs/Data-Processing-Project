{
 "cells": [
  {
   "cell_type": "code",
   "execution_count": 37,
   "metadata": {},
   "outputs": [],
   "source": [
    "import socket\n",
    "import sys\n",
    "import requests\n",
    "import requests_oauthlib\n",
    "import json"
   ]
  },
  {
   "cell_type": "code",
   "execution_count": 38,
   "metadata": {},
   "outputs": [],
   "source": [
    "with open(\"./accessKeys.json\") as f:\n",
    "    data = json.load(f)"
   ]
  },
  {
   "cell_type": "code",
   "execution_count": 39,
   "metadata": {},
   "outputs": [],
   "source": [
    "ACCESS_TOKEN = data['ACCESS_TOKEN']\n",
    "ACCESS_SECRET = data['ACCESS_SECRET']\n",
    "CONSUMER_KEY = data['CONSUMER_KEY']\n",
    "CONSUMER_SECRET = data['CONSUMER_SECRET']\n",
    "my_auth = requests_oauthlib.OAuth1(CONSUMER_KEY, CONSUMER_SECRET,ACCESS_TOKEN, ACCESS_SECRET)"
   ]
  },
  {
   "cell_type": "code",
   "execution_count": 40,
   "metadata": {},
   "outputs": [],
   "source": [
    "def get_tweets():\n",
    "    url = 'https://stream.twitter.com/1.1/statuses/filter.json'\n",
    "    query_data = [('language', 'es'), ('locations', '-9,35,3,42'),('track','#')]\n",
    "    query_url = url + '?' + '&'.join([str(t[0]) + '=' + str(t[1]) for t in query_data])\n",
    "    response = requests.get(query_url, auth=my_auth, stream=True)\n",
    "    print(query_url, response)\n",
    "    return response"
   ]
  },
  {
   "cell_type": "code",
   "execution_count": 48,
   "metadata": {},
   "outputs": [],
   "source": [
    "def send_tweets_to_spark(http_resp, tcp_connection, limit=-1):\n",
    "    for line in http_resp.iter_lines():\n",
    "        limit -= 1\n",
    "        try:\n",
    "            full_tweet = json.loads(line)\n",
    "            tweet_text = full_tweet['text']\n",
    "            print(\"Tweet Text: \" + tweet_text)\n",
    "            print (\"------------------------------------------\")\n",
    "            tcp_connection.send(tweet_text + '\\n')\n",
    "        except:\n",
    "            e = sys.exc_info()[0]\n",
    "            print(\"Error: %s\" % e)\n",
    "        print(\"Limit = \" + str(limit))\n",
    "        if limit == 0:\n",
    "            http_resp.close()\n",
    "            break"
   ]
  },
  {
   "cell_type": "markdown",
   "metadata": {},
   "source": [
    "# Debug"
   ]
  },
  {
   "cell_type": "code",
   "execution_count": 51,
   "metadata": {},
   "outputs": [
    {
     "name": "stdout",
     "output_type": "stream",
     "text": [
      "Waiting for TCP connection...\n",
      "Connected... Starting getting tweets.\n",
      "https://stream.twitter.com/1.1/statuses/filter.json?language=es&locations=-9,35,3,42&track=# <Response [200]>\n",
      "Tweet Text: @VicenCano Cabronazo\n",
      "------------------------------------------\n",
      "Error: <class 'TypeError'>\n",
      "Limit = 4\n",
      "Tweet Text: @rsjavi Habla pueblo habla\n",
      "------------------------------------------\n",
      "Error: <class 'TypeError'>\n",
      "Limit = 3\n",
      "Tweet Text: @PeterPeterbox Visión de futuro y tan bonita como las ilustraciones que compartes hoy 😉✨🚲\n",
      "------------------------------------------\n",
      "Error: <class 'TypeError'>\n",
      "Limit = 2\n",
      "Tweet Text: Me he propuesto empezar a hacer ejercicio, a ver si consigo durar un mes\n",
      "------------------------------------------\n",
      "Error: <class 'TypeError'>\n",
      "Limit = 1\n",
      "Tweet Text: @franferri_ Jajajajaja,.....desde luego sois la hostia...fuimos los campeones en enero y febrero,  con restriccione… https://t.co/gK8aSimHw6\n",
      "------------------------------------------\n",
      "Error: <class 'TypeError'>\n",
      "Limit = 0\n"
     ]
    }
   ],
   "source": [
    "def debug():\n",
    "    TCP_IP = \"localhost\"\n",
    "    TCP_PORT = 8008\n",
    "    conn = None\n",
    "    s = socket.socket(socket.AF_INET, socket.SOCK_STREAM)\n",
    "    s.bind((TCP_IP, TCP_PORT))\n",
    "    s.listen(1)\n",
    "    print(\"Waiting for TCP connection...\")\n",
    "    conn, addr = s.accept()\n",
    "    print(\"Connected... Starting getting tweets.\")\n",
    "    global sock\n",
    "    sock = s\n",
    "    resp = get_tweets()\n",
    "    send_tweets_to_spark(resp, conn, limit=5)\n",
    "    \n",
    "debug()"
   ]
  },
  {
   "cell_type": "code",
   "execution_count": 50,
   "metadata": {},
   "outputs": [],
   "source": [
    "sock.close()"
   ]
  },
  {
   "cell_type": "code",
   "execution_count": null,
   "metadata": {},
   "outputs": [],
   "source": []
  }
 ],
 "metadata": {
  "kernelspec": {
   "display_name": "Python 3",
   "language": "python",
   "name": "python3"
  },
  "language_info": {
   "codemirror_mode": {
    "name": "ipython",
    "version": 3
   },
   "file_extension": ".py",
   "mimetype": "text/x-python",
   "name": "python",
   "nbconvert_exporter": "python",
   "pygments_lexer": "ipython3",
   "version": "3.8.5"
  }
 },
 "nbformat": 4,
 "nbformat_minor": 4
}
