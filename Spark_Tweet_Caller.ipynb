{
 "cells": [
  {
   "cell_type": "code",
   "execution_count": 2,
   "metadata": {},
   "outputs": [],
   "source": [
    "import findspark\n",
    "findspark.init()\n",
    "import pyspark\n",
    "sc = pyspark.SparkContext(appName=\"SparkTwitterProject\")\n",
    "from pyspark.sql.session import SparkSession\n",
    "spark = SparkSession(sc)"
   ]
  },
  {
   "cell_type": "code",
   "execution_count": 3,
   "metadata": {},
   "outputs": [],
   "source": [
    "import socket\n",
    "import sys\n",
    "import requests\n",
    "#import requests_oauthlib\n",
    "import json"
   ]
  },
  {
   "cell_type": "code",
   "execution_count": 4,
   "metadata": {},
   "outputs": [
    {
     "name": "stdout",
     "output_type": "stream",
     "text": [
      "Waiting for TCP connection...\n"
     ]
    }
   ],
   "source": [
    "def send_tweets_to_spark(full_tweet, tcp_connection):\n",
    "    try:\n",
    "        print (\"------------------------------------------\")\n",
    "        print(\"Text: \" + full_tweet)\n",
    "        print(tcp_connection.send(full_tweet.encode('utf-8')))\n",
    "    except:\n",
    "        e = sys.exc_info()[0]\n",
    "        print(\"Error: %s\" % e)\n",
    "\n",
    "TCP_IP = \"localhost\"\n",
    "TCP_PORT = 10002\n",
    "conn = None\n",
    "\n",
    "\n",
    "s = socket.socket(socket.AF_INET, socket.SOCK_STREAM)\n",
    "s.bind((TCP_IP, TCP_PORT))\n",
    "s.listen(1)\n",
    "\n",
    "\n",
    "print(\"Waiting for TCP connection...\")\n",
    "conn, addr = s.accept()"
   ]
  },
  {
   "cell_type": "code",
   "execution_count": 5,
   "metadata": {},
   "outputs": [
    {
     "name": "stdout",
     "output_type": "stream",
     "text": [
      "------------------------------------------\n",
      "Text: tired very very tired tired Alice was very tired tired very was very tired tired Alice was tired very tired tired Alice was Alice very Alice tired Alice tired Alice tired very tired Alice was Alice Alice very very tired was very was was tired very Alice Alice very was was was Alice very very very very Alice very tired tired was Alice was Alice Alice was tired tired very was Alice very tired very tired Alice very Alice was tired was was very was very very tired was Alice Alice tired Alice Alice was was was very was was\n",
      "\n",
      "524\n",
      "------------------------------------------\n",
      "Text: was was tired Alice tired Alice tired tired Alice was very tired very very tired was tired Alice was very very was Alice tired was tired very Alice was Alice Alice was was was tired was Alice tired very very Alice tired Alice Alice Alice very tired very tired tired tired tired was tired very was very was Alice tired tired very was Alice very was was Alice very very was very Alice tired very tired tired very was was very tired Alice tired Alice Alice very very tired Alice very Alice tired was tired was was very was very\n",
      "\n",
      "525\n",
      "------------------------------------------\n",
      "Text: tired tired Alice very was very was tired tired Alice Alice was Alice very Alice very very was Alice was Alice very Alice Alice very Alice very tired very Alice was was tired was tired very tired Alice tired was was tired tired Alice very tired Alice Alice tired very tired very Alice tired tired tired very was very Alice was was tired Alice Alice was was Alice was was very Alice tired very very very Alice was Alice was Alice very was Alice tired very tired was very was very Alice Alice was was very tired was was very\n",
      "\n",
      "523\n",
      "------------------------------------------\n",
      "Text: Alice was very Alice very Alice Alice Alice Alice Alice very Alice was very very tired was was tired tired tired was Alice very Alice Alice was tired tired tired tired very tired Alice was very was tired was tired tired very tired was very tired Alice tired very very was Alice very Alice tired tired very was was very very Alice was was tired Alice very was was very tired very tired Alice was tired Alice Alice very Alice Alice tired tired very was very Alice very very was Alice very was very Alice Alice tired Alice very very\n",
      "\n",
      "530\n",
      "------------------------------------------\n",
      "Text: very tired tired tired Alice Alice tired was very very very Alice very was was was was was Alice Alice Alice tired Alice was Alice Alice very was Alice was Alice tired very tired was Alice was was Alice was Alice very tired very very was very Alice very tired very very was very very very Alice very was very was tired tired Alice Alice was was tired Alice Alice very was Alice Alice Alice was very very Alice was Alice tired tired tired tired Alice Alice Alice was tired Alice Alice tired Alice very was tired Alice very was\n",
      "\n",
      "526\n",
      "------------------------------------------\n",
      "Text: was Alice very Alice very very very very was tired was Alice tired very tired tired was tired was tired Alice Alice tired Alice tired Alice Alice very was tired very was very Alice very was very tired Alice was Alice very tired was tired tired Alice tired was Alice very Alice very was very Alice very Alice was very was tired Alice Alice was very tired was was Alice tired was was was was Alice very tired was very tired was tired very tired Alice was tired was Alice was was Alice tired very very Alice tired Alice tired\n",
      "\n",
      "523\n",
      "------------------------------------------\n",
      "Text: very tired very tired very very was Alice very tired very tired was was was very was tired Alice was Alice Alice Alice tired very was Alice very was tired was Alice Alice very tired Alice very Alice very Alice was Alice tired very very very was Alice Alice tired was was was Alice was was very very was was tired very was was was tired Alice very was was very was was tired Alice tired very tired Alice tired Alice very Alice very tired was tired very tired Alice was was Alice very Alice was was very was tired\n",
      "\n",
      "512\n",
      "------------------------------------------\n",
      "Text: very tired very was was Alice tired tired very tired tired Alice was very tired was was tired was tired tired was tired tired was Alice Alice Alice tired very Alice very tired Alice tired Alice was was Alice very very was was was tired very Alice very Alice Alice Alice Alice was very tired was Alice tired was very Alice very very Alice very Alice tired very very tired Alice tired very was very was very Alice very tired tired Alice was very very Alice tired Alice was was Alice Alice Alice Alice was very very very was was\n",
      "\n",
      "526\n",
      "------------------------------------------\n",
      "Text: Alice tired was very tired tired tired very very very tired very was was was was was tired Alice Alice tired was tired was tired very tired Alice very Alice was tired tired Alice was tired was very tired Alice was was Alice tired was very was very was very very tired Alice was was was tired was tired very very very Alice Alice Alice Alice was tired was Alice tired very tired tired very Alice Alice Alice tired very Alice very tired Alice Alice was tired very very very tired Alice very very tired Alice was Alice tired Alice\n",
      "\n",
      "528\n",
      "------------------------------------------\n",
      "Text: very Alice Alice tired was very was tired tired tired tired Alice was Alice very tired was was tired was very Alice Alice Alice very tired Alice very very very Alice was Alice was tired was was very was very very Alice Alice Alice very Alice was Alice was was Alice tired tired Alice tired Alice Alice very very tired very was was was was Alice very was very tired tired very tired Alice Alice tired very was Alice was tired very tired was tired very was very Alice Alice very was tired very tired very very very was was\n",
      "\n",
      "521\n"
     ]
    }
   ],
   "source": [
    "import random\n",
    "import numpy as np\n",
    "import time\n",
    "resp=\"\"\"Alice was very tired\"\"\"\n",
    "x = resp.split(' ')\n",
    "for item in range(10):\n",
    "#    print(\"-------\")\n",
    "    phrase_2_send = \" \".join(np.random.choice(x,100))\n",
    "#    print(phrase_2_send)\n",
    "#    tcp_connection.send(phrase_2_send+\"\\n\")\n",
    "    send_tweets_to_spark(phrase_2_send+\"\\n\", conn)\n",
    "    time.sleep(random.randint(1,10))"
   ]
  }
 ],
 "metadata": {
  "kernelspec": {
   "display_name": "Python 3",
   "language": "python",
   "name": "python3"
  },
  "language_info": {
   "codemirror_mode": {
    "name": "ipython",
    "version": 3
   },
   "file_extension": ".py",
   "mimetype": "text/x-python",
   "name": "python",
   "nbconvert_exporter": "python",
   "pygments_lexer": "ipython3",
   "version": "3.8.5"
  }
 },
 "nbformat": 4,
 "nbformat_minor": 4
}
