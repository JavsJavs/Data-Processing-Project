{
 "cells": [
  {
   "cell_type": "code",
   "execution_count": 1,
   "metadata": {},
   "outputs": [],
   "source": [
    "import socket\n",
    "import sys\n",
    "import requests\n",
    "import requests_oauthlib\n",
    "import json\n",
    "sock = None"
   ]
  },
  {
   "cell_type": "code",
   "execution_count": 2,
   "metadata": {},
   "outputs": [],
   "source": [
    "with open(\"./accessKeys.json\") as f:\n",
    "    data = json.load(f)"
   ]
  },
  {
   "cell_type": "code",
   "execution_count": 3,
   "metadata": {},
   "outputs": [],
   "source": [
    "ACCESS_TOKEN = data['ACCESS_TOKEN']\n",
    "ACCESS_SECRET = data['ACCESS_SECRET']\n",
    "CONSUMER_KEY = data['CONSUMER_KEY']\n",
    "CONSUMER_SECRET = data['CONSUMER_SECRET']\n",
    "my_auth = requests_oauthlib.OAuth1(CONSUMER_KEY, CONSUMER_SECRET,ACCESS_TOKEN, ACCESS_SECRET)"
   ]
  },
  {
   "cell_type": "code",
   "execution_count": 62,
   "metadata": {},
   "outputs": [],
   "source": [
    "def get_tweets():\n",
    "    url = 'https://stream.twitter.com/1.1/statuses/filter.json'\n",
    "    query_data = [('language', 'es'), ('locations', '-9,35,3,42'),('track','#')]\n",
    "    query_url = url + '?' + '&'.join([str(t[0]) + '=' + str(t[1]) for t in query_data])\n",
    "    response = requests.get(query_url, auth=my_auth, stream=True)\n",
    "    print(query_url, response)\n",
    "    return response"
   ]
  },
  {
   "cell_type": "code",
   "execution_count": 5,
   "metadata": {},
   "outputs": [],
   "source": [
    "def send_tweets_to_spark(http_resp, tcp_connection, limit=-1):\n",
    "    for line in http_resp.iter_lines():\n",
    "        limit -= 1\n",
    "        try:\n",
    "            full_tweet = json.loads(line)\n",
    "            tweet_text = full_tweet['text']\n",
    "            print(\"Tweet Text: \" + tweet_text)\n",
    "            print (\"------------------------------------------\")\n",
    "            tcp_connection.send(bytes(tweet_text + '\\n', encoding='utf8'))\n",
    "        except:\n",
    "            e = sys.exc_info()[0]\n",
    "            print(\"Error: %s\" % e)\n",
    "        print(\"Limit = \" + str(limit))\n",
    "        if limit == 0:\n",
    "            http_resp.close()\n",
    "            break"
   ]
  },
  {
   "cell_type": "markdown",
   "metadata": {},
   "source": [
    "# Debug"
   ]
  },
  {
   "cell_type": "code",
   "execution_count": 61,
   "metadata": {},
   "outputs": [
    {
     "name": "stdout",
     "output_type": "stream",
     "text": [
      "Waiting for TCP connection...\n",
      "Connected... Starting getting tweets.\n",
      "https://stream.twitter.com/1.1/statuses/filter.json?language=es&locations=-9,35,3,42&track=#playstation5 <Response [200]>\n",
      "Tweet Text: @lauraulet Nos pasa\n",
      "------------------------------------------\n",
      "Limit = 19\n",
      "Tweet Text: @EricPLL Osea, para mí dios puede ser perfectamente lo que otros entienden por Naturaleza, o por Destino, o en la l… https://t.co/25oMTDS9Ot\n",
      "------------------------------------------\n",
      "Limit = 18\n",
      "Tweet Text: @r_munozavia Maravilla 😄\n",
      "------------------------------------------\n",
      "Limit = 17\n",
      "Tweet Text: Jardinero, Encofrador, Cerrajero, Mantenimiento...... Algún curro para mi???\n",
      "------------------------------------------\n",
      "Limit = 16\n",
      "Tweet Text: @bballestin Hay mucha mier.....y encima explotacion por mafias que se dan de alta y subcontractan a otras personas.… https://t.co/qspokxWj9h\n",
      "------------------------------------------\n",
      "Limit = 15\n",
      "Tweet Text: Por coherencia profesional y apoyo a nuestro club quedan prohibidas todas las reservas de viaje a la ciudad de Zamo… https://t.co/EWgb8d4a1A\n",
      "------------------------------------------\n",
      "Limit = 14\n",
      "Tweet Text: De verdad, que no. Que estoy muy cabreado. Que un equipo que se juega europa no puede salir así contra el colista.… https://t.co/WCGc8gjTPL\n",
      "------------------------------------------\n",
      "Limit = 13\n",
      "Tweet Text: @Nollegiu @pili_quintana @LitRandomHouse @AlfaguaraES ¡De cabeza que voy!\n",
      "------------------------------------------\n",
      "Limit = 12\n",
      "Tweet Text: @tonihern @alexsilvestreSZ No te gusta?\n",
      "------------------------------------------\n",
      "Limit = 11\n",
      "Tweet Text: ¿Cómo encontrar al grupo de protagonistas de un anime slice of life? https://t.co/6zhUXTygdw\n",
      "------------------------------------------\n",
      "Limit = 10\n",
      "Tweet Text: @BunHasta Así me gusta, joder!!\n",
      "------------------------------------------\n",
      "Limit = 9\n",
      "Tweet Text: Buenas noches a tod@s 💜💜💜💜💜 https://t.co/TXobla8IFs\n",
      "------------------------------------------\n",
      "Limit = 8\n",
      "Tweet Text: Buenas noches corazones dorados tope me despido hasta mañana va nocturno a comentarios rt @_NiedzielaGH16_… https://t.co/ELfPJUHcKP\n",
      "------------------------------------------\n",
      "Limit = 7\n",
      "Tweet Text: Si digo \"mimuj\", ¿de quién pensáis que hablo?\n",
      "------------------------------------------\n",
      "Limit = 6\n",
      "Tweet Text: Hay algunos jugadores que no pueden ponerse más la camiseta del Real Betis, INDOLENTES\n",
      "------------------------------------------\n",
      "Limit = 5\n",
      "Tweet Text: es que que leyenda es jaajaja\n",
      "------------------------------------------\n",
      "Limit = 4\n",
      "Tweet Text: @ShiroYashaSword @Joordi25 Me apunto\n",
      "------------------------------------------\n",
      "Limit = 3\n",
      "Tweet Text: @eldiarioAnd @amorenteg Normal\n",
      "------------------------------------------\n",
      "Limit = 2\n",
      "Tweet Text: @Dani_betico Lo tengo contemplado pero dependemos de nosotros\n",
      "------------------------------------------\n",
      "Limit = 1\n",
      "Tweet Text: @DABARKESEF Y yo feliz 🙂🙂\n",
      "------------------------------------------\n",
      "Limit = 0\n"
     ]
    }
   ],
   "source": [
    "\n",
    "def debug():\n",
    "    TCP_IP = \"localhost\"\n",
    "    TCP_PORT = 8008\n",
    "    conn = None\n",
    "    s = socket.socket(socket.AF_INET, socket.SOCK_STREAM)\n",
    "    s.bind((TCP_IP, TCP_PORT))\n",
    "    s.listen(1)\n",
    "    print(\"Waiting for TCP connection...\")\n",
    "    conn, addr = s.accept()\n",
    "    print(\"Connected... Starting getting tweets.\")\n",
    "    global sock\n",
    "    sock = s\n",
    "    resp = get_tweets()\n",
    "    send_tweets_to_spark(resp, conn, limit=20)\n",
    "    \n",
    "debug()"
   ]
  },
  {
   "cell_type": "code",
   "execution_count": 52,
   "metadata": {},
   "outputs": [],
   "source": [
    "sock.close()"
   ]
  },
  {
   "cell_type": "code",
   "execution_count": null,
   "metadata": {},
   "outputs": [],
   "source": []
  }
 ],
 "metadata": {
  "kernelspec": {
   "display_name": "Python 3",
   "language": "python",
   "name": "python3"
  },
  "language_info": {
   "codemirror_mode": {
    "name": "ipython",
    "version": 3
   },
   "file_extension": ".py",
   "mimetype": "text/x-python",
   "name": "python",
   "nbconvert_exporter": "python",
   "pygments_lexer": "ipython3",
   "version": "3.8.3"
  }
 },
 "nbformat": 4,
 "nbformat_minor": 4
}
